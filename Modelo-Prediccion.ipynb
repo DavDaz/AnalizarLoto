{
 "cells": [
  {
   "cell_type": "code",
   "execution_count": 1,
   "id": "71583069-4b9d-40f5-8b24-4d67a4b912b6",
   "metadata": {},
   "outputs": [],
   "source": [
    "import numpy as np"
   ]
  },
  {
   "cell_type": "code",
   "execution_count": 2,
   "id": "21499200-d188-4f2e-a827-cc1cea01efaa",
   "metadata": {},
   "outputs": [],
   "source": [
    "# Datos históricos de arreglos ganadores\n",
    "historical_data = [\n",
    "    [1, 5, 10, 15, 20, 25],\n",
    "    [2, 6, 11, 16, 21, 26],\n",
    "    # Agrega los 51 arreglos ganadores restantes aquí\n",
    "]"
   ]
  },
  {
   "cell_type": "code",
   "execution_count": 3,
   "id": "b15b810d-7a51-41b2-bdc5-657efce0654e",
   "metadata": {},
   "outputs": [],
   "source": []
  },
  {
   "cell_type": "code",
   "execution_count": null,
   "id": "614635c7-09b3-4f5e-98a6-865ecb3edbb7",
   "metadata": {},
   "outputs": [],
   "source": []
  }
 ],
 "metadata": {
  "kernelspec": {
   "display_name": "Python 3 (ipykernel)",
   "language": "python",
   "name": "python3"
  },
  "language_info": {
   "codemirror_mode": {
    "name": "ipython",
    "version": 3
   },
   "file_extension": ".py",
   "mimetype": "text/x-python",
   "name": "python",
   "nbconvert_exporter": "python",
   "pygments_lexer": "ipython3",
   "version": "3.12.0"
  }
 },
 "nbformat": 4,
 "nbformat_minor": 5
}
