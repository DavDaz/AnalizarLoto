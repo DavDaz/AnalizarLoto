{
 "cells": [
  {
   "cell_type": "code",
   "execution_count": 1,
   "id": "b9490bcc-d57b-48ea-80e5-2e540ac25344",
   "metadata": {},
   "outputs": [],
   "source": [
    "from collections import Counter\n",
    "from itertools import combinations\n",
    "import numpy as np\n",
    "import random\n",
    "import matplotlib.pyplot as plt"
   ]
  },
  {
   "cell_type": "code",
   "execution_count": 42,
   "id": "ad9dc848-32ed-419e-8eef-edc1b004825f",
   "metadata": {},
   "outputs": [],
   "source": [
    "data = [\n",
    "    [4, 27, 23, 36, 13, 1],\n",
    "    [23, 32, 16, 11, 31, 4],\n",
    "    [9, 3, 18, 11, 33, 27],\n",
    "    [19, 3, 36, 5, 28, 18],\n",
    "    [7, 36, 19, 27, 37, 31],\n",
    "    [4, 18, 14, 5, 29, 28],\n",
    "    [28, 33, 9, 36, 23, 1],\n",
    "    [28, 31, 1, 11, 10, 38],\n",
    "    [30, 14, 38, 36, 31, 7],\n",
    "    [33, 18, 29, 12, 7, 10],\n",
    "    [34, 11, 7, 19, 16, 1],\n",
    "    [26, 10, 17, 4, 25, 8],\n",
    "    [28, 7, 5, 2, 33, 3],\n",
    "    [2, 33, 1, 17, 8, 5],\n",
    "    [7, 26, 10, 15, 3, 25],\n",
    "    [7, 6, 5, 1, 21, 19],\n",
    "]"
   ]
  },
  {
   "cell_type": "code",
   "execution_count": 43,
   "id": "43ca3e69-64a6-4f2d-8d31-9e60130a0c50",
   "metadata": {},
   "outputs": [],
   "source": [
    "last_loto = [21, 3, 7, 27, 18, 4]"
   ]
  },
  {
   "cell_type": "code",
   "execution_count": 44,
   "id": "cc91165a-6e10-4b30-a40f-01da6193a785",
   "metadata": {},
   "outputs": [],
   "source": [
    "def contar_coincidencias(array1, array2):\n",
    "    coincidencias = []\n",
    "    for num1, num2 in zip(array1, array2):\n",
    "        if num1 == num2:\n",
    "            coincidencias.append(num1)\n",
    "\n",
    "    cantidad_coincidencias = len(coincidencias)\n",
    "    \n",
    "    print(f\"Hubo coincidencia con {cantidad_coincidencias} números: {coincidencias}\")"
   ]
  },
  {
   "cell_type": "code",
   "execution_count": 46,
   "id": "b1a90ba7-6c57-4382-9f95-df8897a6a978",
   "metadata": {},
   "outputs": [
    {
     "name": "stdout",
     "output_type": "stream",
     "text": [
      "Números que más se repiten:\n",
      "7: 7 veces (7.29%)\n",
      "1: 6 veces (6.25%)\n",
      "36: 5 veces (5.21%)\n",
      "33: 5 veces (5.21%)\n",
      "5: 5 veces (5.21%)\n",
      "28: 5 veces (5.21%)\n",
      "4: 4 veces (4.17%)\n",
      "11: 4 veces (4.17%)\n",
      "31: 4 veces (4.17%)\n",
      "3: 4 veces (4.17%)\n",
      "18: 4 veces (4.17%)\n",
      "19: 4 veces (4.17%)\n",
      "10: 4 veces (4.17%)\n",
      "27: 3 veces (3.12%)\n",
      "23: 3 veces (3.12%)\n",
      "16: 2 veces (2.08%)\n",
      "9: 2 veces (2.08%)\n",
      "14: 2 veces (2.08%)\n",
      "29: 2 veces (2.08%)\n",
      "38: 2 veces (2.08%)\n",
      "26: 2 veces (2.08%)\n",
      "17: 2 veces (2.08%)\n",
      "25: 2 veces (2.08%)\n",
      "8: 2 veces (2.08%)\n",
      "2: 2 veces (2.08%)\n",
      "13: 1 veces (1.04%)\n",
      "32: 1 veces (1.04%)\n",
      "37: 1 veces (1.04%)\n",
      "30: 1 veces (1.04%)\n",
      "12: 1 veces (1.04%)\n",
      "34: 1 veces (1.04%)\n",
      "15: 1 veces (1.04%)\n",
      "6: 1 veces (1.04%)\n",
      "21: 1 veces (1.04%)\n"
     ]
    }
   ],
   "source": [
    "# Convertir la lista de listas a una lista plana\n",
    "flat_data = [num for sublist in data for num in sublist]\n",
    "\n",
    "# Contar la frecuencia de cada número\n",
    "counter = Counter(flat_data)\n",
    "\n",
    "# Encontrar los números que más se repiten\n",
    "most_common_numbers = counter.most_common()\n",
    "\n",
    "# Calcular el total de elementos en la lista plana\n",
    "total_elements = len(flat_data)\n",
    "\n",
    "# Imprimir los resultados con porcentajes\n",
    "print(\"Números que más se repiten:\")\n",
    "for num, count in most_common_numbers:\n",
    "    percentage = (count / total_elements) * 100\n",
    "    print(f\"{num}: {count} veces ({percentage:.2f}%)\")"
   ]
  },
  {
   "cell_type": "code",
   "execution_count": 79,
   "id": "085455c1-6545-45a0-9eb0-e9623b4e3ac1",
   "metadata": {},
   "outputs": [
    {
     "name": "stdout",
     "output_type": "stream",
     "text": [
      "Probabilidades de que aparezca cada número:\n",
      "1: 0.0625\n",
      "2: 0.0208\n",
      "3: 0.0417\n",
      "4: 0.0417\n",
      "5: 0.0521\n",
      "6: 0.0104\n",
      "7: 0.0729\n",
      "8: 0.0208\n",
      "9: 0.0208\n",
      "10: 0.0417\n",
      "11: 0.0417\n",
      "12: 0.0104\n",
      "13: 0.0104\n",
      "14: 0.0208\n",
      "15: 0.0104\n",
      "16: 0.0208\n",
      "17: 0.0208\n",
      "18: 0.0417\n",
      "19: 0.0417\n",
      "20: 0.0000\n",
      "21: 0.0104\n",
      "22: 0.0000\n",
      "23: 0.0312\n",
      "24: 0.0000\n",
      "25: 0.0208\n",
      "26: 0.0208\n",
      "27: 0.0312\n",
      "28: 0.0521\n",
      "29: 0.0208\n",
      "30: 0.0104\n",
      "31: 0.0417\n",
      "32: 0.0104\n",
      "33: 0.0521\n",
      "34: 0.0104\n",
      "35: 0.0000\n",
      "36: 0.0521\n",
      "37: 0.0104\n",
      "38: 0.0208\n"
     ]
    }
   ],
   "source": [
    "# Convertir la lista de listas a una lista plana\n",
    "flat_data = [num for sublist in data for num in sublist]\n",
    "\n",
    "# Contar la frecuencia de cada número\n",
    "counter = Counter(flat_data)\n",
    "\n",
    "# Calcular el total de elementos en la lista plana\n",
    "total_elements = len(flat_data)\n",
    "\n",
    "# Crear un conjunto de números del 1 al 38\n",
    "all_numbers = set(range(1, 39))\n",
    "\n",
    "# Calcular la probabilidad de que aparezca cada número\n",
    "probabilities = {num: (counter[num] / total_elements) for num in all_numbers}\n",
    "\n",
    "# Imprimir los resultados con probabilidades\n",
    "print(\"Probabilidades de que aparezca cada número:\")\n",
    "for num in all_numbers:\n",
    "    probability = probabilities[num] if num in counter else 0\n",
    "    print(f\"{num}: {probability:.4f}\")"
   ]
  },
  {
   "cell_type": "code",
   "execution_count": 52,
   "id": "2ce9684a-ceb0-4ca8-a01a-b7fa9a98f825",
   "metadata": {},
   "outputs": [
    {
     "name": "stdout",
     "output_type": "stream",
     "text": [
      "Total de combinaciones de 6 números del 1 al 38: 2760681\n"
     ]
    }
   ],
   "source": [
    "# Crear un conjunto de números del 1 al 38\n",
    "all_numbers = set(range(1, 39))\n",
    "\n",
    "# Generar todas las combinaciones de 6 números\n",
    "combinations_6 = list(combinations(all_numbers, 6))\n",
    "\n",
    "# Contar cuántas combinaciones hay\n",
    "total_combinations = len(combinations_6)\n",
    "\n",
    "# Imprimir el resultado\n",
    "print(f\"Total de combinaciones de 6 números del 1 al 38: {total_combinations}\")\n"
   ]
  },
  {
   "cell_type": "code",
   "execution_count": 9,
   "id": "dec82eab-e877-4621-b1ba-3dbc05771dac",
   "metadata": {},
   "outputs": [],
   "source": [
    "# Crear un conjunto de números del 1 al 38 y ver en consola sus iteraciones\n",
    "#all_numbers = list(range(1, 39))\n",
    "\n",
    "# Generar y mostrar todas las combinaciones de 6 números sin repetición\n",
    "#combinations_6 = list(combinations(all_numbers, 6))\n",
    "\n",
    "# Imprimir cada combinación\n",
    "#for index, combination in enumerate(combinations_6, start=1):\n",
    "#    print(f\"Combinación {index}: {combination}\")"
   ]
  },
  {
   "cell_type": "code",
   "execution_count": 53,
   "id": "cf82f51f-7422-4abb-bca2-b7ef5180538f",
   "metadata": {},
   "outputs": [
    {
     "name": "stdout",
     "output_type": "stream",
     "text": [
      "La probabilidad en porcentaje es aproximadamente: 0.000036%\n"
     ]
    }
   ],
   "source": [
    "# Número total de combinaciones posibles\n",
    "total_combinations = 2760681\n",
    "\n",
    "# Calcular la probabilidad en porcentaje\n",
    "probability_percentage = (1 / total_combinations) * 100\n",
    "\n",
    "# Imprimir el resultado\n",
    "print(f\"La probabilidad en porcentaje es aproximadamente: {probability_percentage:.6f}%\")"
   ]
  },
  {
   "cell_type": "code",
   "execution_count": 54,
   "id": "c61e1fe5-e122-41a6-bf43-72cbda72980a",
   "metadata": {},
   "outputs": [],
   "source": [
    "# Crear un conjunto de números del 1 al 38\n",
    "all_numbers = set(range(1, 39))\n",
    "\n",
    "# Inicializar una lista para almacenar los números encontrados en cada iteración\n",
    "found_numbers = []\n",
    "\n",
    "# Bucle para recorrer cada arreglo\n",
    "for i, arr in enumerate(data):\n",
    "    # Agregar los números del arreglo actual a la lista de encontrados\n",
    "    found_numbers.extend(arr)\n",
    "    # Obtener el conjunto único de números encontrados hasta el momento\n",
    "    unique_found_numbers = set(found_numbers)\n",
    "    # Verificar si se han encontrado todos los números del 1 al 38\n",
    "    if unique_found_numbers == all_numbers:\n",
    "        print(f\"Todos los números del 1 al 38 fueron encontrados en la iteración {i + 1}\")\n",
    "        break"
   ]
  },
  {
   "cell_type": "code",
   "execution_count": 55,
   "id": "7ac6a6e9-4820-459f-9898-5da9023bd726",
   "metadata": {},
   "outputs": [
    {
     "name": "stdout",
     "output_type": "stream",
     "text": [
      "No se encontraron todos los números del 1 al 38 en los datos proporcionados.\n",
      "Números encontrados: {1, 2, 3, 4, 5, 6, 7, 8, 9, 10, 11, 12, 13, 14, 15, 16, 17, 18, 19, 21, 23, 25, 26, 27, 28, 29, 30, 31, 32, 33, 34, 36, 37, 38}\n",
      "Números faltantes: {24, 35, 20, 22}\n"
     ]
    }
   ],
   "source": [
    "# Conjunto para almacenar los números encontrados\n",
    "numeros_encontrados = set()\n",
    "\n",
    "# Variable para llevar el conteo de los bucles\n",
    "bucle_actual = 0\n",
    "\n",
    "# Recorrer los datos\n",
    "for lista_numeros in data:\n",
    "    bucle_actual += 1\n",
    "    numeros_encontrados.update(lista_numeros)\n",
    "\n",
    "    # Verificar si todos los números del 1 al 38 están presentes\n",
    "    if set(range(1, 39)).issubset(numeros_encontrados):\n",
    "        print(f\"¡Todos los números del 1 al 38 están presentes en el bucle {bucle_actual}!\")\n",
    "        break\n",
    "else:\n",
    "    numeros_faltantes = set(range(1, 39)) - numeros_encontrados\n",
    "    print(f\"No se encontraron todos los números del 1 al 38 en los datos proporcionados.\")\n",
    "    print(f\"Números encontrados: {numeros_encontrados}\")\n",
    "    print(f\"Números faltantes: {numeros_faltantes}\")"
   ]
  },
  {
   "cell_type": "code",
   "execution_count": 63,
   "id": "a138ac0f-47e8-45b6-87b2-513ee01a6a2e",
   "metadata": {},
   "outputs": [
    {
     "name": "stdout",
     "output_type": "stream",
     "text": [
      "Bucle 1: Desviación estándar = 12.50\n",
      "Bucle 2: Desviación estándar = 10.21\n",
      "Bucle 3: Desviación estándar = 10.43\n",
      "Bucle 4: Desviación estándar = 11.68\n",
      "Bucle 5: Desviación estándar = 10.46\n",
      "Bucle 6: Desviación estándar = 9.88\n",
      "Bucle 7: Desviación estándar = 12.67\n",
      "Bucle 8: Desviación estándar = 13.23\n",
      "Bucle 9: Desviación estándar = 11.47\n",
      "Bucle 10: Desviación estándar = 9.72\n",
      "Bucle 11: Desviación estándar = 10.43\n",
      "Bucle 12: Desviación estándar = 8.37\n",
      "Bucle 13: Desviación estándar = 12.56\n",
      "Bucle 14: Desviación estándar = 11.15\n",
      "Bucle 15: Desviación estándar = 8.67\n",
      "Bucle 16: Desviación estándar = 7.45\n"
     ]
    }
   ],
   "source": [
    "# Calcular la desviación estándar para cada conjunto\n",
    "desviaciones_estandar = [np.std(sublista) for sublista in data]\n",
    "\n",
    "# Imprimir resultados\n",
    "for i, desviacion in enumerate(desviaciones_estandar, start=1):\n",
    "    desviacion_redondeada = round(desviacion, 2)\n",
    "    print(f\"Bucle {i}: Desviación estándar = {desviacion:.2f}\")\n",
    "    # Almacenar en la lista después de imprimir\n",
    "    desviaciones_estandar[i-1] = desviacion_redondeada"
   ]
  },
  {
   "cell_type": "code",
   "execution_count": 65,
   "id": "94a79b64-4185-4439-9aa1-7cbf55b8bc70",
   "metadata": {},
   "outputs": [
    {
     "name": "stdout",
     "output_type": "stream",
     "text": [
      "El promedio de las desviaciones estándar es: 10.68\n"
     ]
    }
   ],
   "source": [
    "# IMPORTANTE  Necesitas la desviacion anterior para ejecutar este codigo\n",
    "# Calcular el promedio de las desviaciones estándar\n",
    "promedio_desviaciones = sum(desviaciones_estandar) / len(desviaciones_estandar)\n",
    "\n",
    "# Imprimir el resultado\n",
    "print(f\"El promedio de las desviaciones estándar es: {promedio_desviaciones:.2f}\")"
   ]
  },
  {
   "cell_type": "code",
   "execution_count": 68,
   "id": "be85823d-a2cd-46cd-92e4-64a2f9e430d9",
   "metadata": {},
   "outputs": [
    {
     "data": {
      "image/png": "[encoded data removed]",
      "text/plain": [
       "<Figure size 640x480 with 1 Axes>"
      ]
     },
     "metadata": {},
     "output_type": "display_data"
    }
   ],
   "source": [
    "# Desviaciones estándar proporcionadas\n",
    "# Índices para los bucles\n",
    "bucles = list(range(1, len(desviaciones_estandar) + 1))\n",
    "\n",
    "# Crear el gráfico de barras\n",
    "plt.bar(bucles, desviaciones_estandar, color='blue')\n",
    "plt.xlabel('Bucle')\n",
    "plt.ylabel('Desviación estándar')\n",
    "plt.title('Desviación estándar en cada bucle')\n",
    "plt.grid(axis='y')\n",
    "\n",
    "# Mostrar el gráfico\n",
    "plt.show()"
   ]
  },
  {
   "cell_type": "code",
   "execution_count": 69,
   "id": "1653f0a7-d9da-4fe2-9f63-838e4c20149c",
   "metadata": {},
   "outputs": [
    {
     "name": "stdout",
     "output_type": "stream",
     "text": [
      "Conjunto seleccionado: [28, 38, 11, 24, 31, 1]\n",
      "Desviación estándar del conjunto seleccionado: 12.508885730640527\n"
     ]
    }
   ],
   "source": [
    "# Número de conjuntos a generar\n",
    "num_conjuntos = 1000\n",
    "\n",
    "# Lista para almacenar los conjuntos generados\n",
    "conjuntos_generados = []\n",
    "\n",
    "# Generar conjuntos aleatorios\n",
    "for _ in range(num_conjuntos):\n",
    "    conjunto = random.sample(range(1, 39), 6)\n",
    "    conjuntos_generados.append(conjunto)\n",
    "\n",
    "# Calcular la desviación estándar de cada conjunto\n",
    "desviaciones_estandar_generadas = [np.std(conjunto) for conjunto in conjuntos_generados]\n",
    "\n",
    "# Convertir la lista a un array de NumPy antes de realizar la resta\n",
    "desviaciones_estandar_generadas = np.array(desviaciones_estandar_generadas)\n",
    "\n",
    "# Encontrar el conjunto con desviación estándar más cercana a la observada\n",
    "indice_min_desviacion = np.argmin(np.abs(desviaciones_estandar_generadas - 12.50))\n",
    "conjunto_seleccionado = conjuntos_generados[indice_min_desviacion]\n",
    "\n",
    "# Imprimir resultados\n",
    "print(\"Conjunto seleccionado:\", conjunto_seleccionado)\n",
    "print(\"Desviación estándar del conjunto seleccionado:\", desviaciones_estandar_generadas[indice_min_desviacion])"
   ]
  },
  {
   "cell_type": "code",
   "execution_count": 92,
   "id": "8f47066a-fa29-4f47-84d6-38d559b017e3",
   "metadata": {},
   "outputs": [
    {
     "name": "stdout",
     "output_type": "stream",
     "text": [
      "Conjunto seleccionado: [5, 4, 23, 33, 18, 28]\n",
      "Desviación estándar del conjunto seleccionado: 10.90489186863706\n"
     ]
    }
   ],
   "source": [
    "# Probabilidades proporcionadas\n",
    "probabilidades = probabilities\n",
    "\n",
    "# Número de conjuntos a generar\n",
    "num_conjuntos = 1000\n",
    "\n",
    "# Lista para almacenar los conjuntos generados\n",
    "conjuntos_generados = []\n",
    "\n",
    "# Generar conjuntos basados en las probabilidades\n",
    "for _ in range(num_conjuntos):\n",
    "    conjunto = random.choices(list(probabilidades.keys()), weights=list(probabilidades.values()), k=6)\n",
    "    conjuntos_generados.append(conjunto)\n",
    "\n",
    "# Calcular la desviación estándar de cada conjunto\n",
    "desviaciones_estandar_generadas = [np.std(conjunto) for conjunto in conjuntos_generados]\n",
    "\n",
    "# Convertir la lista a un array de NumPy antes de realizar la resta\n",
    "desviaciones_estandar_generadas = np.array(desviaciones_estandar_generadas)\n",
    "\n",
    "# Encontrar el conjunto con desviación estándar más cercana a la observada\n",
    "indice_min_desviacion = np.argmin(np.abs(desviaciones_estandar_generadas - 10.90))\n",
    "conjunto_seleccionado = conjuntos_generados[indice_min_desviacion]\n",
    "\n",
    "# Imprimir resultados\n",
    "print(\"Conjunto seleccionado:\", conjunto_seleccionado)\n",
    "print(\"Desviación estándar del conjunto seleccionado:\", desviaciones_estandar_generadas[indice_min_desviacion])\n"
   ]
  },
  {
   "cell_type": "code",
   "execution_count": 93,
   "id": "08a4ae37-14bd-462b-8ee3-fb37cdfdda69",
   "metadata": {},
   "outputs": [
    {
     "name": "stdout",
     "output_type": "stream",
     "text": [
      "Hubo coincidencia con 1 números: [18]\n"
     ]
    }
   ],
   "source": [
    "contar_coincidencias(conjunto_seleccionado, last_loto)"
   ]
  },
  {
   "cell_type": "code",
   "execution_count": null,
   "id": "d0732f04-dcff-44d4-8493-ac3a661d0d07",
   "metadata": {},
   "outputs": [],
   "source": []
  }
 ],
 "metadata": {
  "kernelspec": {
   "display_name": "Python 3 (ipykernel)",
   "language": "python",
   "name": "python3"
  },
  "language_info": {
   "codemirror_mode": {
    "name": "ipython",
    "version": 3
   },
   "file_extension": ".py",
   "mimetype": "text/x-python",
   "name": "python",
   "nbconvert_exporter": "python",
   "pygments_lexer": "ipython3",
   "version": "3.11.7"
  }
 },
 "nbformat": 4,
 "nbformat_minor": 5
}
