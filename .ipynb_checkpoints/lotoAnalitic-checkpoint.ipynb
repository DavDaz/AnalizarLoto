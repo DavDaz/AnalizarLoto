{
 "cells": [
  {
   "cell_type": "code",
   "execution_count": 2,
   "id": "b9490bcc-d57b-48ea-80e5-2e540ac25344",
   "metadata": {},
   "outputs": [],
   "source": [
    "from collections import Counter\n",
    "from itertools import combinations\n",
    "import numpy as np\n",
    "import random\n",
    "import matplotlib.pyplot as plt"
   ]
  },
  {
   "cell_type": "code",
   "execution_count": 7,
   "id": "ad9dc848-32ed-419e-8eef-edc1b004825f",
   "metadata": {},
   "outputs": [],
   "source": [
    "data = [\n",
    "    [4, 27, 23, 36, 13, 1],\n",
    "    [23, 32, 16, 11, 31, 4],\n",
    "    [9, 3, 18, 11, 33, 27],\n",
    "    [19, 3, 36, 5, 28, 18],\n",
    "    [7, 36, 19, 27, 37, 31],\n",
    "    [4, 18, 14, 5, 29, 28],\n",
    "    [28, 33, 9, 36, 23, 1],\n",
    "    [28, 31, 1, 11, 10, 38],\n",
    "    [30, 14, 38, 36, 31, 7],\n",
    "    [33, 18, 29, 12, 7, 10],\n",
    "    [34, 11, 7, 19, 16, 1],\n",
    "    [26, 10, 17, 4, 25, 8],\n",
    "    [28, 7, 5, 2, 33, 3],\n",
    "    [2, 33, 1, 17, 8, 5],\n",
    "    [7, 26, 10, 15, 3, 25]\n",
    "]"
   ]
  },
  {
   "cell_type": "code",
   "execution_count": 4,
   "id": "b1a90ba7-6c57-4382-9f95-df8897a6a978",
   "metadata": {},
   "outputs": [
    {
     "name": "stdout",
     "output_type": "stream",
     "text": [
      "Números que más se repiten:\n",
      "7: 6 veces (6.67%)\n",
      "36: 5 veces (5.56%)\n",
      "1: 5 veces (5.56%)\n",
      "33: 5 veces (5.56%)\n",
      "28: 5 veces (5.56%)\n",
      "4: 4 veces (4.44%)\n",
      "11: 4 veces (4.44%)\n",
      "31: 4 veces (4.44%)\n",
      "3: 4 veces (4.44%)\n",
      "18: 4 veces (4.44%)\n",
      "5: 4 veces (4.44%)\n",
      "10: 4 veces (4.44%)\n",
      "27: 3 veces (3.33%)\n",
      "23: 3 veces (3.33%)\n",
      "19: 3 veces (3.33%)\n",
      "16: 2 veces (2.22%)\n",
      "9: 2 veces (2.22%)\n",
      "14: 2 veces (2.22%)\n",
      "29: 2 veces (2.22%)\n",
      "38: 2 veces (2.22%)\n",
      "26: 2 veces (2.22%)\n",
      "17: 2 veces (2.22%)\n",
      "25: 2 veces (2.22%)\n",
      "8: 2 veces (2.22%)\n",
      "2: 2 veces (2.22%)\n",
      "13: 1 veces (1.11%)\n",
      "32: 1 veces (1.11%)\n",
      "37: 1 veces (1.11%)\n",
      "30: 1 veces (1.11%)\n",
      "12: 1 veces (1.11%)\n",
      "34: 1 veces (1.11%)\n",
      "15: 1 veces (1.11%)\n"
     ]
    }
   ],
   "source": [
    "# Convertir la lista de listas a una lista plana\n",
    "flat_data = [num for sublist in data for num in sublist]\n",
    "\n",
    "# Contar la frecuencia de cada número\n",
    "counter = Counter(flat_data)\n",
    "\n",
    "# Encontrar los números que más se repiten\n",
    "most_common_numbers = counter.most_common()\n",
    "\n",
    "# Calcular el total de elementos en la lista plana\n",
    "total_elements = len(flat_data)\n",
    "\n",
    "# Imprimir los resultados con porcentajes\n",
    "print(\"Números que más se repiten:\")\n",
    "for num, count in most_common_numbers:\n",
    "    percentage = (count / total_elements) * 100\n",
    "    print(f\"{num}: {count} veces ({percentage:.2f}%)\")"
   ]
  },
  {
   "cell_type": "code",
   "execution_count": 5,
   "id": "085455c1-6545-45a0-9eb0-e9623b4e3ac1",
   "metadata": {},
   "outputs": [
    {
     "name": "stdout",
     "output_type": "stream",
     "text": [
      "Probabilidades de que aparezca cada número:\n",
      "1: 0.0556\n",
      "2: 0.0222\n",
      "3: 0.0444\n",
      "4: 0.0444\n",
      "5: 0.0444\n",
      "6: 0.0000\n",
      "7: 0.0667\n",
      "8: 0.0222\n",
      "9: 0.0222\n",
      "10: 0.0444\n",
      "11: 0.0444\n",
      "12: 0.0111\n",
      "13: 0.0111\n",
      "14: 0.0222\n",
      "15: 0.0111\n",
      "16: 0.0222\n",
      "17: 0.0222\n",
      "18: 0.0444\n",
      "19: 0.0333\n",
      "20: 0.0000\n",
      "21: 0.0000\n",
      "22: 0.0000\n",
      "23: 0.0333\n",
      "24: 0.0000\n",
      "25: 0.0222\n",
      "26: 0.0222\n",
      "27: 0.0333\n",
      "28: 0.0556\n",
      "29: 0.0222\n",
      "30: 0.0111\n",
      "31: 0.0444\n",
      "32: 0.0111\n",
      "33: 0.0556\n",
      "34: 0.0111\n",
      "35: 0.0000\n",
      "36: 0.0556\n",
      "37: 0.0111\n",
      "38: 0.0222\n"
     ]
    }
   ],
   "source": [
    "\n",
    "\n",
    "# Convertir la lista de listas a una lista plana\n",
    "flat_data = [num for sublist in data for num in sublist]\n",
    "\n",
    "# Contar la frecuencia de cada número\n",
    "counter = Counter(flat_data)\n",
    "\n",
    "# Calcular el total de elementos en la lista plana\n",
    "total_elements = len(flat_data)\n",
    "\n",
    "# Crear un conjunto de números del 1 al 38\n",
    "all_numbers = set(range(1, 39))\n",
    "\n",
    "# Calcular la probabilidad de que aparezca cada número\n",
    "probabilities = {num: counter[num] / total_elements for num in all_numbers}\n",
    "\n",
    "# Imprimir los resultados con probabilidades\n",
    "print(\"Probabilidades de que aparezca cada número:\")\n",
    "for num in all_numbers:\n",
    "    probability = probabilities[num] if num in counter else 0\n",
    "    print(f\"{num}: {probability:.4f}\")\n"
   ]
  },
  {
   "cell_type": "code",
   "execution_count": 6,
   "id": "2ce9684a-ceb0-4ca8-a01a-b7fa9a98f825",
   "metadata": {},
   "outputs": [
    {
     "name": "stdout",
     "output_type": "stream",
     "text": [
      "Total de combinaciones de 6 números del 1 al 38: 2760681\n"
     ]
    }
   ],
   "source": [
    "\n",
    "\n",
    "# Crear un conjunto de números del 1 al 38\n",
    "all_numbers = set(range(1, 39))\n",
    "\n",
    "# Generar todas las combinaciones de 6 números\n",
    "combinations_6 = list(combinations(all_numbers, 6))\n",
    "\n",
    "# Contar cuántas combinaciones hay\n",
    "total_combinations = len(combinations_6)\n",
    "\n",
    "# Imprimir el resultado\n",
    "print(f\"Total de combinaciones de 6 números del 1 al 38: {total_combinations}\")\n"
   ]
  },
  {
   "cell_type": "code",
   "execution_count": 9,
   "id": "dec82eab-e877-4621-b1ba-3dbc05771dac",
   "metadata": {},
   "outputs": [],
   "source": [
    "# Crear un conjunto de números del 1 al 38 y ver en consola sus iteraciones\n",
    "#all_numbers = list(range(1, 39))\n",
    "\n",
    "# Generar y mostrar todas las combinaciones de 6 números sin repetición\n",
    "#combinations_6 = list(combinations(all_numbers, 6))\n",
    "\n",
    "# Imprimir cada combinación\n",
    "#for index, combination in enumerate(combinations_6, start=1):\n",
    "#    print(f\"Combinación {index}: {combination}\")"
   ]
  },
  {
   "cell_type": "code",
   "execution_count": 10,
   "id": "cf82f51f-7422-4abb-bca2-b7ef5180538f",
   "metadata": {},
   "outputs": [
    {
     "name": "stdout",
     "output_type": "stream",
     "text": [
      "La probabilidad en porcentaje es aproximadamente: 0.000036%\n"
     ]
    }
   ],
   "source": [
    "# Número total de combinaciones posibles\n",
    "total_combinations = 2760681\n",
    "\n",
    "# Calcular la probabilidad en porcentaje\n",
    "probability_percentage = (1 / total_combinations) * 100\n",
    "\n",
    "# Imprimir el resultado\n",
    "print(f\"La probabilidad en porcentaje es aproximadamente: {probability_percentage:.6f}%\")"
   ]
  },
  {
   "cell_type": "code",
   "execution_count": 11,
   "id": "c61e1fe5-e122-41a6-bf43-72cbda72980a",
   "metadata": {},
   "outputs": [],
   "source": [
    "# Crear un conjunto de números del 1 al 38\n",
    "all_numbers = set(range(1, 39))\n",
    "\n",
    "# Inicializar una lista para almacenar los números encontrados en cada iteración\n",
    "found_numbers = []\n",
    "\n",
    "# Bucle para recorrer cada arreglo\n",
    "for i, arr in enumerate(data):\n",
    "    # Agregar los números del arreglo actual a la lista de encontrados\n",
    "    found_numbers.extend(arr)\n",
    "    # Obtener el conjunto único de números encontrados hasta el momento\n",
    "    unique_found_numbers = set(found_numbers)\n",
    "    # Verificar si se han encontrado todos los números del 1 al 38\n",
    "    if unique_found_numbers == all_numbers:\n",
    "        print(f\"Todos los números del 1 al 38 fueron encontrados en la iteración {i + 1}\")\n",
    "        break"
   ]
  },
  {
   "cell_type": "code",
   "execution_count": 13,
   "id": "7ac6a6e9-4820-459f-9898-5da9023bd726",
   "metadata": {},
   "outputs": [
    {
     "name": "stdout",
     "output_type": "stream",
     "text": [
      "No se encontraron todos los números del 1 al 38 en los datos proporcionados.\n",
      "Números encontrados: {1, 2, 3, 4, 5, 7, 8, 9, 10, 11, 12, 13, 14, 15, 16, 17, 18, 19, 23, 25, 26, 27, 28, 29, 30, 31, 32, 33, 34, 36, 37, 38}\n",
      "Números faltantes: {35, 6, 20, 21, 22, 24}\n"
     ]
    }
   ],
   "source": [
    "# Conjunto para almacenar los números encontrados\n",
    "numeros_encontrados = set()\n",
    "\n",
    "# Variable para llevar el conteo de los bucles\n",
    "bucle_actual = 0\n",
    "\n",
    "# Recorrer los datos\n",
    "for lista_numeros in data:\n",
    "    bucle_actual += 1\n",
    "    numeros_encontrados.update(lista_numeros)\n",
    "\n",
    "    # Verificar si todos los números del 1 al 38 están presentes\n",
    "    if set(range(1, 39)).issubset(numeros_encontrados):\n",
    "        print(f\"¡Todos los números del 1 al 38 están presentes en el bucle {bucle_actual}!\")\n",
    "        break\n",
    "else:\n",
    "    numeros_faltantes = set(range(1, 39)) - numeros_encontrados\n",
    "    print(f\"No se encontraron todos los números del 1 al 38 en los datos proporcionados.\")\n",
    "    print(f\"Números encontrados: {numeros_encontrados}\")\n",
    "    print(f\"Números faltantes: {numeros_faltantes}\")"
   ]
  },
  {
   "cell_type": "code",
   "execution_count": 9,
   "id": "a138ac0f-47e8-45b6-87b2-513ee01a6a2e",
   "metadata": {},
   "outputs": [
    {
     "name": "stdout",
     "output_type": "stream",
     "text": [
      "Bucle 1: Desviación estándar = 12.50\n",
      "Bucle 2: Desviación estándar = 10.21\n",
      "Bucle 3: Desviación estándar = 10.43\n",
      "Bucle 4: Desviación estándar = 11.68\n",
      "Bucle 5: Desviación estándar = 10.46\n",
      "Bucle 6: Desviación estándar = 9.88\n",
      "Bucle 7: Desviación estándar = 12.67\n",
      "Bucle 8: Desviación estándar = 13.23\n",
      "Bucle 9: Desviación estándar = 11.47\n",
      "Bucle 10: Desviación estándar = 9.72\n",
      "Bucle 11: Desviación estándar = 10.43\n",
      "Bucle 12: Desviación estándar = 8.37\n",
      "Bucle 13: Desviación estándar = 12.56\n",
      "Bucle 14: Desviación estándar = 11.15\n",
      "Bucle 15: Desviación estándar = 8.67\n"
     ]
    }
   ],
   "source": [
    "\n",
    "# Calcular la desviación estándar para cada conjunto\n",
    "desviaciones_estandar = [np.std(sublista) for sublista in data]\n",
    "\n",
    "# Imprimir resultados\n",
    "for i, desviacion in enumerate(desviaciones_estandar, start=1):\n",
    "    print(f\"Bucle {i}: Desviación estándar = {desviacion:.2f}\")"
   ]
  },
  {
   "cell_type": "code",
   "execution_count": 5,
   "id": "94a79b64-4185-4439-9aa1-7cbf55b8bc70",
   "metadata": {},
   "outputs": [
    {
     "name": "stdout",
     "output_type": "stream",
     "text": [
      "El promedio de las desviaciones estándar es: 10.90\n"
     ]
    }
   ],
   "source": [
    "desviaciones_estandar = [12.50, 10.21, 10.43, 11.68, 10.46, 9.88, 12.67, 13.23, 11.47, 9.72, 10.43, 8.37, 12.56, 11.15, 8.67]\n",
    "\n",
    "# Calcular el promedio de las desviaciones estándar\n",
    "promedio_desviaciones = sum(desviaciones_estandar) / len(desviaciones_estandar)\n",
    "\n",
    "# Imprimir el resultado\n",
    "print(f\"El promedio de las desviaciones estándar es: {promedio_desviaciones:.2f}\")"
   ]
  },
  {
   "cell_type": "code",
   "execution_count": 4,
   "id": "be85823d-a2cd-46cd-92e4-64a2f9e430d9",
   "metadata": {},
   "outputs": [
    {
     "data": {
      "image/png": "[encoded data removed]",
      "text/plain": [
       "<Figure size 640x480 with 1 Axes>"
      ]
     },
     "metadata": {},
     "output_type": "display_data"
    }
   ],
   "source": [
    "\n",
    "# Desviaciones estándar proporcionadas\n",
    "desviaciones_estandar = [12.50, 10.21, 10.43, 11.68, 10.46, 9.88, 12.67, 13.23, 11.47, 9.72, 10.43, 8.37, 12.56, 11.15, 8.67]\n",
    "\n",
    "# Índices para los bucles\n",
    "bucles = list(range(1, len(desviaciones_estandar) + 1))\n",
    "\n",
    "# Crear el gráfico de barras\n",
    "plt.bar(bucles, desviaciones_estandar, color='blue')\n",
    "plt.xlabel('Bucle')\n",
    "plt.ylabel('Desviación estándar')\n",
    "plt.title('Desviación estándar en cada bucle')\n",
    "plt.grid(axis='y')\n",
    "\n",
    "# Mostrar el gráfico\n",
    "plt.show()"
   ]
  },
  {
   "cell_type": "code",
   "execution_count": 10,
   "id": "1653f0a7-d9da-4fe2-9f63-838e4c20149c",
   "metadata": {},
   "outputs": [
    {
     "name": "stdout",
     "output_type": "stream",
     "text": [
      "Conjunto seleccionado: [5, 16, 37, 34, 6, 15]\n",
      "Desviación estándar del conjunto seleccionado: 12.508885730640529\n"
     ]
    }
   ],
   "source": [
    "# Número de conjuntos a generar\n",
    "num_conjuntos = 1000\n",
    "\n",
    "# Lista para almacenar los conjuntos generados\n",
    "conjuntos_generados = []\n",
    "\n",
    "# Generar conjuntos aleatorios\n",
    "for _ in range(num_conjuntos):\n",
    "    conjunto = random.sample(range(1, 39), 6)\n",
    "    conjuntos_generados.append(conjunto)\n",
    "\n",
    "# Calcular la desviación estándar de cada conjunto\n",
    "desviaciones_estandar_generadas = [np.std(conjunto) for conjunto in conjuntos_generados]\n",
    "\n",
    "# Convertir la lista a un array de NumPy antes de realizar la resta\n",
    "desviaciones_estandar_generadas = np.array(desviaciones_estandar_generadas)\n",
    "\n",
    "# Encontrar el conjunto con desviación estándar más cercana a la observada\n",
    "indice_min_desviacion = np.argmin(np.abs(desviaciones_estandar_generadas - 12.50))\n",
    "conjunto_seleccionado = conjuntos_generados[indice_min_desviacion]\n",
    "\n",
    "# Imprimir resultados\n",
    "print(\"Conjunto seleccionado:\", conjunto_seleccionado)\n",
    "print(\"Desviación estándar del conjunto seleccionado:\", desviaciones_estandar_generadas[indice_min_desviacion])"
   ]
  },
  {
   "cell_type": "code",
   "execution_count": 6,
   "id": "8f47066a-fa29-4f47-84d6-38d559b017e3",
   "metadata": {},
   "outputs": [
    {
     "name": "stdout",
     "output_type": "stream",
     "text": [
      "Conjunto seleccionado: [13, 4, 7, 34, 5, 23]\n",
      "Desviación estándar del conjunto seleccionado: 10.888321980707383\n"
     ]
    }
   ],
   "source": [
    "# Probabilidades proporcionadas\n",
    "probabilidades = {\n",
    "    1: 0.0556, 2: 0.0222, 3: 0.0444, 4: 0.0444, 5: 0.0444,\n",
    "    6: 0.0000, 7: 0.0667, 8: 0.0222, 9: 0.0222, 10: 0.0444,\n",
    "    11: 0.0444, 12: 0.0111, 13: 0.0111, 14: 0.0222, 15: 0.0111,\n",
    "    16: 0.0222, 17: 0.0222, 18: 0.0444, 19: 0.0333, 20: 0.0000,\n",
    "    21: 0.0000, 22: 0.0000, 23: 0.0333, 24: 0.0000, 25: 0.0222,\n",
    "    26: 0.0222, 27: 0.0333, 28: 0.0556, 29: 0.0222, 30: 0.0111,\n",
    "    31: 0.0444, 32: 0.0111, 33: 0.0556, 34: 0.0111, 35: 0.0000,\n",
    "    36: 0.0556, 37: 0.0111, 38: 0.0222\n",
    "}\n",
    "\n",
    "# Número de conjuntos a generar\n",
    "num_conjuntos = 1000\n",
    "\n",
    "# Lista para almacenar los conjuntos generados\n",
    "conjuntos_generados = []\n",
    "\n",
    "# Generar conjuntos basados en las probabilidades\n",
    "for _ in range(num_conjuntos):\n",
    "    conjunto = random.choices(list(probabilidades.keys()), weights=list(probabilidades.values()), k=6)\n",
    "    conjuntos_generados.append(conjunto)\n",
    "\n",
    "# Calcular la desviación estándar de cada conjunto\n",
    "desviaciones_estandar_generadas = [np.std(conjunto) for conjunto in conjuntos_generados]\n",
    "\n",
    "# Convertir la lista a un array de NumPy antes de realizar la resta\n",
    "desviaciones_estandar_generadas = np.array(desviaciones_estandar_generadas)\n",
    "\n",
    "# Encontrar el conjunto con desviación estándar más cercana a la observada\n",
    "indice_min_desviacion = np.argmin(np.abs(desviaciones_estandar_generadas - 10.90))\n",
    "conjunto_seleccionado = conjuntos_generados[indice_min_desviacion]\n",
    "\n",
    "# Imprimir resultados\n",
    "print(\"Conjunto seleccionado:\", conjunto_seleccionado)\n",
    "print(\"Desviación estándar del conjunto seleccionado:\", desviaciones_estandar_generadas[indice_min_desviacion])\n",
    "\n"
   ]
  },
  {
   "cell_type": "code",
   "execution_count": null,
   "id": "08a4ae37-14bd-462b-8ee3-fb37cdfdda69",
   "metadata": {},
   "outputs": [],
   "source": []
  },
  {
   "cell_type": "code",
   "execution_count": null,
   "id": "d0732f04-dcff-44d4-8493-ac3a661d0d07",
   "metadata": {},
   "outputs": [],
   "source": []
  }
 ],
 "metadata": {
  "kernelspec": {
   "display_name": "Python 3 (ipykernel)",
   "language": "python",
   "name": "python3"
  },
  "language_info": {
   "codemirror_mode": {
    "name": "ipython",
    "version": 3
   },
   "file_extension": ".py",
   "mimetype": "text/x-python",
   "name": "python",
   "nbconvert_exporter": "python",
   "pygments_lexer": "ipython3",
   "version": "3.11.7"
  }
 },
 "nbformat": 4,
 "nbformat_minor": 5
}
